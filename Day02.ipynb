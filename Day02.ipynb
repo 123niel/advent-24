{
 "cells": [
  {
   "metadata": {},
   "cell_type": "markdown",
   "source": "## Advent Of Code 2024, Day 2"
  },
  {
   "metadata": {
    "ExecuteTime": {
     "end_time": "2024-12-02T14:22:25.090201Z",
     "start_time": "2024-12-02T14:22:24.984023Z"
    }
   },
   "cell_type": "code",
   "source": [
    "import com.toldoven.aoc.notebook.AocClient\n",
    "\n",
    "val aoc = AocClient.fromEnv().interactiveDay(2024, 2)"
   ],
   "outputs": [],
   "execution_count": 1
  },
  {
   "metadata": {
    "ExecuteTime": {
     "end_time": "2024-12-02T14:22:25.133950Z",
     "start_time": "2024-12-02T14:22:25.094091Z"
    }
   },
   "cell_type": "code",
   "source": "aoc.viewPartOne()",
   "outputs": [
    {
     "data": {
      "text/html": [
       "<h2>--- Day 2: Red-Nosed Reports ---</h2>\n",
       "<p>Fortunately, the first location The Historians want to search isn't a long walk from the Chief Historian's office.</p> \n",
       "<p>While the <a href=\"/2015/day/19\">Red-Nosed Reindeer nuclear fusion/fission plant</a> appears to contain no sign of the Chief Historian, the engineers there run up to you as soon as they see you. Apparently, they <em>still</em> talk about the time Rudolph was saved through molecular synthesis from a single electron.</p> \n",
       "<p>They're quick to add that - since you're already here - they'd really appreciate your help analyzing some unusual data from the Red-Nosed reactor. You turn to check if The Historians are waiting for you, but they seem to have already divided into groups that are currently searching every corner of the facility. You offer to help with the unusual data.</p> \n",
       "<p>The unusual data (your puzzle input) consists of many <em>reports</em>, one report per line. Each report is a list of numbers called <em>levels</em> that are separated by spaces. For example:</p> \n",
       "<pre><code>7 6 4 2 1\n",
       "1 2 7 8 9\n",
       "9 7 6 2 1\n",
       "1 3 2 4 5\n",
       "8 6 4 4 1\n",
       "1 3 6 7 9\n",
       "</code></pre> \n",
       "<p>This example data contains six reports each containing five levels.</p> \n",
       "<p>The engineers are trying to figure out which reports are <em>safe</em>. The Red-Nosed reactor safety systems can only tolerate levels that are either gradually increasing or gradually decreasing. So, a report only counts as safe if both of the following are true:</p> \n",
       "<ul> \n",
       " <li>The levels are either <em>all increasing</em> or <em>all decreasing</em>.</li> \n",
       " <li>Any two adjacent levels differ by <em>at least one</em> and <em>at most three</em>.</li> \n",
       "</ul> \n",
       "<p>In the example above, the reports can be found safe or unsafe by checking those rules:</p> \n",
       "<ul> \n",
       " <li><code>7 6 4 2 1</code>: <em>Safe</em> because the levels are all decreasing by 1 or 2.</li> \n",
       " <li><code>1 2 7 8 9</code>: <em>Unsafe</em> because <code>2 7</code> is an increase of 5.</li> \n",
       " <li><code>9 7 6 2 1</code>: <em>Unsafe</em> because <code>6 2</code> is a decrease of 4.</li> \n",
       " <li><code>1 3 2 4 5</code>: <em>Unsafe</em> because <code>1 3</code> is increasing but <code>3 2</code> is decreasing.</li> \n",
       " <li><code>8 6 4 4 1</code>: <em>Unsafe</em> because <code>4 4</code> is neither an increase or a decrease.</li> \n",
       " <li><code>1 3 6 7 9</code>: <em>Safe</em> because the levels are all increasing by 1, 2, or 3.</li> \n",
       "</ul> \n",
       "<p>So, in this example, <code><em>2</em></code> reports are <em>safe</em>.</p> \n",
       "<p>Analyze the unusual data from the engineers. <em>How many reports are safe?</em></p>"
      ]
     },
     "execution_count": 2,
     "metadata": {},
     "output_type": "execute_result"
    }
   ],
   "execution_count": 2
  },
  {
   "metadata": {
    "ExecuteTime": {
     "end_time": "2024-12-02T14:22:25.359450Z",
     "start_time": "2024-12-02T14:22:25.138287Z"
    }
   },
   "cell_type": "code",
   "source": [
    "val reports = aoc.input().lines().map { line ->\n",
    "    line.split(\" \").map { it.toInt() }\n",
    "}"
   ],
   "outputs": [],
   "execution_count": 3
  },
  {
   "metadata": {
    "ExecuteTime": {
     "end_time": "2024-12-02T14:22:25.680806Z",
     "start_time": "2024-12-02T14:22:25.362824Z"
    }
   },
   "cell_type": "code",
   "source": [
    "val between = { num: Int -> 1 <= abs(num) && abs(num) <= 3 }\n",
    "val positive = { num: Int -> num > 0 }\n",
    "val negative = { num: Int -> num < 0 }\n",
    "\n",
    "fun List<Int>.isSafe() = windowed(2).map { (first, second) -> first - second }.let { diffs ->\n",
    "    diffs.all(between) && (diffs.all(positive) || diffs.all(negative))\n",
    "}\n",
    "\n",
    "val part1 = reports.filter {\n",
    "    it.isSafe()\n",
    "}.count()\n",
    "    .also { DISPLAY(it) }"
   ],
   "outputs": [
    {
     "data": {
      "text/plain": [
       "306"
      ]
     },
     "metadata": {},
     "output_type": "display_data"
    }
   ],
   "execution_count": 4
  },
  {
   "metadata": {
    "ExecuteTime": {
     "end_time": "2024-12-02T14:22:26.562905Z",
     "start_time": "2024-12-02T14:22:25.684997Z"
    }
   },
   "cell_type": "code",
   "source": "aoc.submitPartOne(part1)",
   "outputs": [
    {
     "data": {
      "text/html": [
       "<p>The answer is correct!</p><p>Your answer: 306</p><small>You already completed this part.</small>"
      ]
     },
     "execution_count": 5,
     "metadata": {},
     "output_type": "execute_result"
    }
   ],
   "execution_count": 5
  },
  {
   "metadata": {
    "ExecuteTime": {
     "end_time": "2024-12-02T14:22:26.594914Z",
     "start_time": "2024-12-02T14:22:26.566581Z"
    }
   },
   "cell_type": "code",
   "source": "aoc.viewPartTwo()",
   "outputs": [
    {
     "data": {
      "text/html": [
       "<h2 id=\"part2\">--- Part Two ---</h2>\n",
       "<p>The engineers are surprised by the low number of safe reports until they realize they forgot to tell you about the <span title=\"I need to get one of these!\">Problem Dampener</span>.</p> \n",
       "<p>The Problem Dampener is a reactor-mounted module that lets the reactor safety systems <em>tolerate a single bad level</em> in what would otherwise be a safe report. It's like the bad level never happened!</p> \n",
       "<p>Now, the same rules apply as before, except if removing a single level from an unsafe report would make it safe, the report instead counts as safe.</p> \n",
       "<p>More of the above example's reports are now safe:</p> \n",
       "<ul> \n",
       " <li><code>7 6 4 2 1</code>: <em>Safe</em> without removing any level.</li> \n",
       " <li><code>1 2 7 8 9</code>: <em>Unsafe</em> regardless of which level is removed.</li> \n",
       " <li><code>9 7 6 2 1</code>: <em>Unsafe</em> regardless of which level is removed.</li> \n",
       " <li><code>1 <em>3</em> 2 4 5</code>: <em>Safe</em> by removing the second level, <code>3</code>.</li> \n",
       " <li><code>8 6 <em>4</em> 4 1</code>: <em>Safe</em> by removing the third level, <code>4</code>.</li> \n",
       " <li><code>1 3 6 7 9</code>: <em>Safe</em> without removing any level.</li> \n",
       "</ul> \n",
       "<p>Thanks to the Problem Dampener, <code><em>4</em></code> reports are actually <em>safe</em>!</p> \n",
       "<p>Update your analysis by handling situations where the Problem Dampener can remove a single level from unsafe reports. <em>How many reports are now safe?</em></p>"
      ]
     },
     "execution_count": 6,
     "metadata": {},
     "output_type": "execute_result"
    }
   ],
   "execution_count": 6
  },
  {
   "metadata": {
    "ExecuteTime": {
     "end_time": "2024-12-02T14:22:26.776765Z",
     "start_time": "2024-12-02T14:22:26.598292Z"
    }
   },
   "cell_type": "code",
   "source": [
    "val part2 = reports.filter { nums ->\n",
    "    val variants = buildList {\n",
    "        add(nums)\n",
    "        nums.indices.forEach { i ->\n",
    "            val mutl = nums.toMutableList().apply {\n",
    "                removeAt(i)\n",
    "            }\n",
    "            add(mutl.toList())\n",
    "        }\n",
    "    }\n",
    "\n",
    "    variants.any { it.isSafe() }\n",
    "}.count()\n",
    "    .also { DISPLAY(it) }"
   ],
   "outputs": [
    {
     "data": {
      "text/plain": [
       "366"
      ]
     },
     "metadata": {},
     "output_type": "display_data"
    }
   ],
   "execution_count": 7
  },
  {
   "metadata": {
    "ExecuteTime": {
     "end_time": "2024-12-02T14:22:27.991680Z",
     "start_time": "2024-12-02T14:22:26.782297Z"
    }
   },
   "cell_type": "code",
   "source": "aoc.submitPartTwo(part2)",
   "outputs": [
    {
     "data": {
      "text/html": [
       "<p>The answer is correct!</p><p>Your answer: 366</p><small>You already completed this part.</small>"
      ]
     },
     "execution_count": 8,
     "metadata": {},
     "output_type": "execute_result"
    }
   ],
   "execution_count": 8
  },
  {
   "metadata": {
    "ExecuteTime": {
     "end_time": "2024-12-02T14:22:27.998786Z",
     "start_time": "2024-12-02T14:22:27.995909Z"
    }
   },
   "cell_type": "code",
   "source": "",
   "outputs": [],
   "execution_count": null
  }
 ],
 "metadata": {
  "kernelspec": {
   "display_name": "Kotlin",
   "language": "kotlin",
   "name": "kotlin"
  },
  "language_info": {
   "name": "kotlin",
   "version": "1.9.23",
   "mimetype": "text/x-kotlin",
   "file_extension": ".kt",
   "pygments_lexer": "kotlin",
   "codemirror_mode": "text/x-kotlin",
   "nbconvert_exporter": ""
  }
 },
 "nbformat": 4,
 "nbformat_minor": 0
}
