{
 "cells": [
  {
   "metadata": {},
   "cell_type": "markdown",
   "source": "## Advent Of Code 2024, Day 2"
  },
  {
   "metadata": {},
   "cell_type": "code",
   "source": [
    "import com.toldoven.aoc.notebook.AocClient\n",
    "\n",
    "val aoc = AocClient.fromEnv().interactiveDay(2024, 2)"
   ],
   "outputs": [],
   "execution_count": null
  },
  {
   "metadata": {},
   "cell_type": "code",
   "source": "aoc.viewPartOne()",
   "outputs": [],
   "execution_count": null
  },
  {
   "metadata": {},
   "cell_type": "code",
   "source": [
    "val reports = aoc.input().lines().map { line ->\n",
    "    line.split(\" \").map { it.toInt() }\n",
    "}"
   ],
   "outputs": [],
   "execution_count": null
  },
  {
   "metadata": {},
   "cell_type": "code",
   "source": [
    "val between = { num: Int -> 1 <= abs(num) && abs(num) <= 3 }\n",
    "val positive = { num: Int -> num > 0 }\n",
    "val negative = { num: Int -> num < 0 }\n",
    "\n",
    "fun List<Int>.isSafe() = windowed(2).map { (first, second) -> first - second }.let { diffs ->\n",
    "    diffs.all(between) && (diffs.all(positive) || diffs.all(negative))\n",
    "}\n",
    "\n",
    "val part1 = reports.filter {\n",
    "    it.isSafe()\n",
    "}.count()\n",
    "    .also { DISPLAY(it) }"
   ],
   "outputs": [],
   "execution_count": null
  },
  {
   "metadata": {},
   "cell_type": "code",
   "source": "aoc.submitPartOne(part1)",
   "outputs": [],
   "execution_count": null
  },
  {
   "metadata": {},
   "cell_type": "code",
   "source": "aoc.viewPartTwo()",
   "outputs": [],
   "execution_count": null
  },
  {
   "metadata": {},
   "cell_type": "code",
   "source": [
    "val part2 = reports.filter { nums ->\n",
    "    val variants = buildList {\n",
    "        add(nums)\n",
    "        nums.indices.forEach { i ->\n",
    "            val mutl = nums.toMutableList().apply {\n",
    "                removeAt(i)\n",
    "            }\n",
    "            add(mutl.toList())\n",
    "        }\n",
    "    }\n",
    "\n",
    "    variants.any { it.isSafe() }\n",
    "}.count()\n",
    "    .also { DISPLAY(it) }"
   ],
   "outputs": [],
   "execution_count": null
  },
  {
   "metadata": {},
   "cell_type": "code",
   "source": "aoc.submitPartTwo(part2)",
   "outputs": [],
   "execution_count": null
  },
  {
   "metadata": {},
   "cell_type": "code",
   "source": "",
   "outputs": [],
   "execution_count": null
  }
 ],
 "metadata": {
  "kernelspec": {
   "display_name": "Kotlin",
   "language": "kotlin",
   "name": "kotlin"
  },
  "language_info": {
   "name": "kotlin",
   "version": "1.9.23",
   "mimetype": "text/x-kotlin",
   "file_extension": ".kt",
   "pygments_lexer": "kotlin",
   "codemirror_mode": "text/x-kotlin",
   "nbconvert_exporter": ""
  }
 },
 "nbformat": 4,
 "nbformat_minor": 0
}
