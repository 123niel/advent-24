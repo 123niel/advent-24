{
 "cells": [
  {
   "metadata": {},
   "cell_type": "markdown",
   "source": "## Advent Of Code 2024, Day 3"
  },
  {
   "metadata": {},
   "cell_type": "code",
   "source": [
    "import com.toldoven.aoc.notebook.AocClient\n",
    "\n",
    "val aoc = AocClient.fromEnv().interactiveDay(2024, 3)"
   ],
   "outputs": [],
   "execution_count": null
  },
  {
   "metadata": {},
   "cell_type": "code",
   "source": "aoc.viewPartOne()",
   "outputs": [],
   "execution_count": null
  },
  {
   "metadata": {},
   "cell_type": "code",
   "source": [
    "val regex = \"\"\"mul\\((\\d{1,3}),(\\d{1,3})\\)\"\"\".toRegex()\n",
    "\n",
    "fun String.matches(regex: Regex) = regex.findAll(this).map { it.groupValues }\n",
    "\n",
    "\n",
    "val part1 = aoc.input().matches(regex).sumOf { values ->\n",
    "    values[1].toInt() * values[2].toInt()\n",
    "}.also { DISPLAY(it) }"
   ],
   "outputs": [],
   "execution_count": null
  },
  {
   "metadata": {},
   "cell_type": "code",
   "source": "aoc.submitPartOne(part1)",
   "outputs": [],
   "execution_count": null
  },
  {
   "metadata": {},
   "cell_type": "code",
   "source": "aoc.viewPartTwo()",
   "outputs": [],
   "execution_count": null
  },
  {
   "metadata": {},
   "cell_type": "code",
   "source": [
    "val regex = \"\"\"mul\\((\\d{1,3}),(\\d{1,3})\\)|do\\(\\)|don't\\(\\)\"\"\".toRegex()\n",
    "\n",
    "val part2 = aoc.input().matches(regex)\n",
    "    .fold((0 to true)) { (acc, enabled), match ->\n",
    "        when {\n",
    "            match[0] == \"do()\" -> (acc to true)\n",
    "            match[0] == \"don't()\" -> (acc to false)\n",
    "            enabled -> {\n",
    "                (acc + (match[1].toInt() * match[2].toInt()) to enabled)\n",
    "            }\n",
    "\n",
    "            else -> (acc to enabled)\n",
    "        }\n",
    "    }.first\n",
    "    .also { DISPLAY(it) }"
   ],
   "outputs": [],
   "execution_count": null
  },
  {
   "metadata": {},
   "cell_type": "code",
   "source": "aoc.submitPartTwo(part2)",
   "outputs": [],
   "execution_count": null
  },
  {
   "metadata": {},
   "cell_type": "code",
   "source": "",
   "outputs": [],
   "execution_count": null
  }
 ],
 "metadata": {
  "kernelspec": {
   "display_name": "Kotlin",
   "language": "kotlin",
   "name": "kotlin"
  },
  "language_info": {
   "name": "kotlin",
   "version": "1.9.23",
   "mimetype": "text/x-kotlin",
   "file_extension": ".kt",
   "pygments_lexer": "kotlin",
   "codemirror_mode": "text/x-kotlin",
   "nbconvert_exporter": ""
  }
 },
 "nbformat": 4,
 "nbformat_minor": 0
}
