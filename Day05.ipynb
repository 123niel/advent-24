{
 "cells": [
  {
   "metadata": {},
   "cell_type": "markdown",
   "source": "## Advent Of Code 2024, Day 5"
  },
  {
   "metadata": {},
   "cell_type": "code",
   "source": [
    "import com.toldoven.aoc.notebook.AocClient\n",
    "\n",
    "val aoc = AocClient.fromEnv().interactiveDay(2024, 5)"
   ],
   "outputs": [],
   "execution_count": null
  },
  {
   "metadata": {},
   "cell_type": "code",
   "source": "aoc.viewPartOne()",
   "outputs": [],
   "execution_count": null
  },
  {
   "metadata": {},
   "cell_type": "code",
   "source": [
    "fun String.convertIntput() = split(\"\\n\\n\").map { it.lines() }.let { (ruleLines, updateLines) ->\n",
    "\n",
    "    val rules = ruleLines.map {\n",
    "        val (before, after) = it.split(\"|\")\n",
    "        before to after\n",
    "    }\n",
    "\n",
    "    val updates = updateLines.map { it.split(\",\") }\n",
    "\n",
    "    rules to updates\n",
    "}\n"
   ],
   "outputs": [],
   "execution_count": null
  },
  {
   "metadata": {},
   "cell_type": "code",
   "source": [
    "fun List<String>.isValid(rules: List<Pair<String, String>>): Boolean {\n",
    "\n",
    "    val printed = mutableListOf<String>()\n",
    "\n",
    "    val validRules = rules.filter { (before, after) -> before in this && after in this }\n",
    "\n",
    "    this.forEach { page ->\n",
    "        val filterdRules = validRules.filter { (_, after) -> after == page }\n",
    "\n",
    "        if (filterdRules.any { (before, _) -> before !in printed }) {\n",
    "            return false\n",
    "        }\n",
    "\n",
    "        printed.add(page)\n",
    "    }\n",
    "    return true\n",
    "}"
   ],
   "outputs": [],
   "execution_count": null
  },
  {
   "metadata": {},
   "cell_type": "code",
   "source": [
    "\n",
    "val (rules, updates) = aoc.input().convertIntput()\n",
    "\n",
    "val part1 = updates.filter { it.isValid(rules) }.map { it[it.size / 2].toInt() }.sum().also { DISPLAY(it) }"
   ],
   "outputs": [],
   "execution_count": null
  },
  {
   "metadata": {},
   "cell_type": "code",
   "source": "aoc.submitPartOne(part1)",
   "outputs": [],
   "execution_count": null
  },
  {
   "metadata": {},
   "cell_type": "code",
   "source": "aoc.viewPartTwo()",
   "outputs": [],
   "execution_count": null
  },
  {
   "metadata": {},
   "cell_type": "code",
   "source": [
    "fun List<String>.sorted(rules: List<Pair<String, String>>) = sortedWith { o1: String, o2: String ->\n",
    "\n",
    "    rules.firstOrNull() { pair ->\n",
    "        val set = setOf(pair.first, pair.second)\n",
    "        o1 in set && o2 in set\n",
    "    }?.let { (before, after) ->\n",
    "        if (before == o1 && after == o2) return@sortedWith -1\n",
    "        if (before == o2 && after == o1) return@sortedWith 1\n",
    "    }\n",
    "    return@sortedWith 0\n",
    "}\n",
    "\n",
    "val part2 = updates\n",
    "    .filter { it -> !it.isValid(rules) }\n",
    "    .sumOf { it.sorted(rules)[it.size / 2].toInt() }\n",
    "    .also { DISPLAY(it) }"
   ],
   "outputs": [],
   "execution_count": null
  },
  {
   "metadata": {},
   "cell_type": "code",
   "source": "aoc.submitPartTwo(part2)",
   "outputs": [],
   "execution_count": null
  },
  {
   "metadata": {},
   "cell_type": "code",
   "source": "",
   "outputs": [],
   "execution_count": null
  }
 ],
 "metadata": {
  "kernelspec": {
   "display_name": "Kotlin",
   "language": "kotlin",
   "name": "kotlin"
  },
  "language_info": {
   "name": "kotlin",
   "version": "1.9.23",
   "mimetype": "text/x-kotlin",
   "file_extension": ".kt",
   "pygments_lexer": "kotlin",
   "codemirror_mode": "text/x-kotlin",
   "nbconvert_exporter": ""
  }
 },
 "nbformat": 4,
 "nbformat_minor": 0
}
