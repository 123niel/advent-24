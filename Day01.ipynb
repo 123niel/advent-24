{
 "cells": [
  {
   "metadata": {},
   "cell_type": "markdown",
   "source": "## Advent Of Code 2024, Day 1"
  },
  {
   "metadata": {},
   "cell_type": "code",
   "source": [
    "import com.toldoven.aoc.notebook.AocClient\n",
    "\n",
    "val aoc = AocClient.fromEnv().interactiveDay(2024, 1)"
   ],
   "outputs": [],
   "execution_count": null
  },
  {
   "metadata": {},
   "cell_type": "code",
   "source": "aoc.viewPartOne()",
   "outputs": [],
   "execution_count": null
  },
  {
   "metadata": {},
   "cell_type": "code",
   "source": [
    "val (left, right) = aoc.input().lines()\n",
    "    .map { it\n",
    "        .split(\"\"\"\\s+\"\"\".toRegex())\n",
    "        .let { it[0].toInt() to it[1].toInt() }\n",
    "    }.unzip()\n"
   ],
   "outputs": [],
   "execution_count": null
  },
  {
   "metadata": {},
   "cell_type": "code",
   "source": [
    "val part1 = left.sorted().zip(right.sorted())\n",
    "    .sumOf { (l, r) -> abs(l - r) }\n",
    "    .also { DISPLAY(it) }"
   ],
   "outputs": [],
   "execution_count": null
  },
  {
   "metadata": {},
   "cell_type": "code",
   "source": "aoc.submitPartOne(part1)",
   "outputs": [],
   "execution_count": null
  },
  {
   "metadata": {},
   "cell_type": "code",
   "source": "aoc.viewPartTwo()",
   "outputs": [],
   "execution_count": null
  },
  {
   "metadata": {},
   "cell_type": "code",
   "source": [
    "val frequencies = right.groupingBy { it }.eachCount()\n",
    "\n",
    "val part2 = left.sumOf { it * frequencies.getOrDefault(it, 0) }\n",
    "    .also { DISPLAY(it) }"
   ],
   "outputs": [],
   "execution_count": null
  },
  {
   "metadata": {},
   "cell_type": "code",
   "source": "aoc.submitPartTwo(part2)",
   "outputs": [],
   "execution_count": null
  },
  {
   "metadata": {},
   "cell_type": "code",
   "source": "",
   "outputs": [],
   "execution_count": null
  }
 ],
 "metadata": {
  "kernelspec": {
   "display_name": "Kotlin",
   "language": "kotlin",
   "name": "kotlin"
  },
  "language_info": {
   "name": "kotlin",
   "version": "1.9.23",
   "mimetype": "text/x-kotlin",
   "file_extension": ".kt",
   "pygments_lexer": "kotlin",
   "codemirror_mode": "text/x-kotlin",
   "nbconvert_exporter": ""
  }
 },
 "nbformat": 4,
 "nbformat_minor": 0
}
